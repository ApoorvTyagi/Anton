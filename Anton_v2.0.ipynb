{
 "cells": [
  {
   "cell_type": "code",
   "execution_count": 1,
   "metadata": {},
   "outputs": [],
   "source": [
    "from time import sleep\n",
    "from chatterbot import ChatBot\n",
    "from chatterbot.trainers import ChatterBotCorpusTrainer\n",
    "from selenium import webdriver\n",
    "from selenium.webdriver.common.by import By\n",
    "from selenium.webdriver.support import expected_conditions as EC\n",
    "from selenium.webdriver.support.ui import WebDriverWait\n",
    "from selenium.common.exceptions import NoSuchElementException, StaleElementReferenceException\n",
    "from selenium.webdriver.chrome.options import Options\n",
    "\n",
    "import threading\n",
    "import time"
   ]
  },
  {
   "cell_type": "code",
   "execution_count": 2,
   "metadata": {},
   "outputs": [
    {
     "name": "stdout",
     "output_type": "stream",
     "text": [
      "Training ai.yml: [####################] 100%\n",
      "Training botprofile.yml: [####################] 100%\n",
      "Training computers.yml: [####################] 100%\n",
      "Training conversations.yml: [####################] 100%\n",
      "Training emotion.yml: [####################] 100%\n",
      "Training food.yml: [####################] 100%\n",
      "Training gossip.yml: [####################] 100%\n",
      "Training greetings.yml: [####################] 100%\n",
      "Training health.yml: [####################] 100%\n",
      "Training history.yml: [####################] 100%\n",
      "Training humor.yml: [####################] 100%\n",
      "Training literature.yml: [####################] 100%\n",
      "Training money.yml: [####################] 100%\n",
      "Training movies.yml: [####################] 100%\n",
      "Training politics.yml: [####################] 100%\n",
      "Training psychology.yml: [####################] 100%\n",
      "Training science.yml: [####################] 100%\n",
      "Training sports.yml: [####################] 100%\n",
      "Training trivia.yml: [####################] 100%\n"
     ]
    }
   ],
   "source": [
    "chatbot = ChatBot('ANTON',\n",
    "    storage_adapter='chatterbot.storage.SQLStorageAdapter',\n",
    "    logic_adapters=[\n",
    "        {\n",
    "            \"import_path\": \"chatterbot.logic.BestMatch\",\n",
    "        },\n",
    "        {\n",
    "            'import_path': 'chatterbot.logic.MathematicalEvaluation',            \n",
    "        },\n",
    "        {\n",
    "            'import_path': 'chatterbot.logic.UnitConversion',          \n",
    "        }        \n",
    "    ])\n",
    "\n",
    "trainer = ChatterBotCorpusTrainer(chatbot)\n",
    "trainer.train(\"chatterbot.corpus.english\")"
   ]
  },
  {
   "cell_type": "code",
   "execution_count": 3,
   "metadata": {},
   "outputs": [],
   "source": [
    "driver=None"
   ]
  },
  {
   "cell_type": "code",
   "execution_count": 4,
   "metadata": {},
   "outputs": [],
   "source": [
    "def whatsappWebConnection(chromeDriverPath):\n",
    "    global driver\n",
    "\n",
    "    chrome_options = Options() # Saving the last session\n",
    "    chrome_options.add_argument(\"user-data-dir=selenium\") \n",
    "    driver = webdriver.Chrome(chromeDriverPath, chrome_options=chrome_options)\n",
    "    driver.get('https://web.whatsapp.com/')\n",
    "\n",
    "    while True:\n",
    "        time.sleep(1)\n",
    "        try:\n",
    "            appLoad = driver.find_element_by_class_name(\"m6ZEb\") # The class only exists after the QR login page\n",
    "            if appLoad:\n",
    "                return\n",
    "        except NoSuchElementException:\n",
    "            pass"
   ]
  },
  {
   "cell_type": "code",
   "execution_count": 5,
   "metadata": {},
   "outputs": [],
   "source": [
    "def getLastMessage(targetName):\n",
    "        global driver\n",
    "        target = driver.find_element_by_xpath('//span[@title= \"{}\"]'.format(targetName))\n",
    "        target.click()\n",
    "\n",
    "        messages = None\n",
    "\n",
    "        while(1):\n",
    "            try:\n",
    "                messages = driver.find_elements_by_class_name(\"_3zb-j\")\n",
    "                newMessage = messages[-1].text\n",
    "                return newMessage\n",
    "            except (NoSuchElementException, StaleElementReferenceException) as e:\n",
    "                pass"
   ]
  },
  {
   "cell_type": "code",
   "execution_count": 6,
   "metadata": {},
   "outputs": [],
   "source": [
    "def sendMessage(targetName, msg):\n",
    "        global driver\n",
    "        target = driver.find_element_by_xpath('//span[@title= \"{}\"]'.format(targetName))\n",
    "        target.click()\n",
    "\n",
    "        msg_box = driver.find_element_by_xpath('//*[@id=\"main\"]/footer/div[1]/div[2]/div/div[2]')\n",
    "        msg_box.send_keys(msg)\n",
    "        button = driver.find_element_by_class_name('_35EW6').click()"
   ]
  },
  {
   "cell_type": "code",
   "execution_count": 7,
   "metadata": {},
   "outputs": [
    {
     "name": "stderr",
     "output_type": "stream",
     "text": [
      "C:\\ProgramData\\Anaconda\\lib\\site-packages\\ipykernel_launcher.py:6: DeprecationWarning: use options instead of chrome_options\n",
      "  \n"
     ]
    }
   ],
   "source": [
    "whatsappWebConnection('C:/users/tyagi/Downloads/chromedriver.exe')"
   ]
  },
  {
   "cell_type": "code",
   "execution_count": 8,
   "metadata": {},
   "outputs": [],
   "source": [
    "def startAnton():\n",
    "    threading.Timer(30.0, startAnton).start()\n",
    "    msg=getLastMessage(\"ME\") #name of your contact with whom you want to talk\n",
    "    f = open(\"WhatsappMessages.txt\",encoding=\"utf8\")\n",
    "    oldMessage=f.readline()\n",
    "    if(msg!=oldMessage):\n",
    "        response = chatbot.get_response(msg)\n",
    "        print(msg,end=' : ')\n",
    "        print(response)\n",
    "        print()\n",
    "        sendMessage(\"ME\", str(response))#name of your contact with whom you want to talk\n",
    "        f.write(str(response))\n",
    "        f.close()\n",
    "        time.sleep(5)"
   ]
  },
  {
   "cell_type": "code",
   "execution_count": null,
   "metadata": {},
   "outputs": [],
   "source": [
    "startAnton()"
   ]
  },
  {
   "cell_type": "code",
   "execution_count": null,
   "metadata": {},
   "outputs": [],
   "source": []
  }
 ],
 "metadata": {
  "kernelspec": {
   "display_name": "Python 3",
   "language": "python",
   "name": "python3"
  },
  "language_info": {
   "codemirror_mode": {
    "name": "ipython",
    "version": 3
   },
   "file_extension": ".py",
   "mimetype": "text/x-python",
   "name": "python",
   "nbconvert_exporter": "python",
   "pygments_lexer": "ipython3",
   "version": "3.7.0"
  }
 },
 "nbformat": 4,
 "nbformat_minor": 2
}

{
 "cells": [
  {
   "cell_type": "code",
   "execution_count": 73,
   "metadata": {},
   "outputs": [],
   "source": [
    "from time import sleep\n",
    "from chatterbot import ChatBot\n",
    "from chatterbot.trainers import ChatterBotCorpusTrainer\n",
    "from selenium import webdriver\n",
    "from selenium.webdriver.common.by import By\n",
    "from selenium.webdriver.support import expected_conditions as EC\n",
    "from selenium.webdriver.support.ui import WebDriverWait\n",
    "from selenium.common.exceptions import NoSuchElementException, StaleElementReferenceException\n",
    "from selenium.webdriver.chrome.options import Options\n",
    "\n",
    "import threading\n",
    "import time"
   ]
  },
  {
   "cell_type": "code",
   "execution_count": 74,
   "metadata": {},
   "outputs": [
    {
     "name": "stdout",
     "output_type": "stream",
     "text": [
      "Training ai.yml: [####################] 100%\n",
      "Training botprofile.yml: [####################] 100%\n",
      "Training computers.yml: [####################] 100%\n",
      "Training conversations.yml: [####################] 100%\n",
      "Training emotion.yml: [####################] 100%\n",
      "Training food.yml: [####################] 100%\n",
      "Training gossip.yml: [####################] 100%\n",
      "Training greetings.yml: [####################] 100%\n",
      "Training health.yml: [####################] 100%\n",
      "Training history.yml: [####################] 100%\n",
      "Training humor.yml: [####################] 100%\n",
      "Training literature.yml: [####################] 100%\n",
      "Training money.yml: [####################] 100%\n",
      "Training movies.yml: [####################] 100%\n",
      "Training politics.yml: [####################] 100%\n",
      "Training psychology.yml: [####################] 100%\n",
      "Training science.yml: [####################] 100%\n",
      "Training sports.yml: [####################] 100%\n",
      "Training trivia.yml: [####################] 100%\n",
      "Training greetings.yml: [####################] 100%\n",
      "Training conversations.yml: [####################] 100%\n"
     ]
    }
   ],
   "source": [
    "chatbot = ChatBot('ANTON')\n",
    "\n",
    "trainer = ChatterBotCorpusTrainer(chatbot)\n",
    "\n",
    "trainer.train(\"chatterbot.corpus.english\")\n",
    "trainer.train(\"chatterbot.corpus.hindi\")"
   ]
  },
  {
   "cell_type": "code",
   "execution_count": 75,
   "metadata": {},
   "outputs": [],
   "source": [
    "driver=None"
   ]
  },
  {
   "cell_type": "code",
   "execution_count": 76,
   "metadata": {},
   "outputs": [],
   "source": [
    "def whatsappWebConnection(chromeDriverPath):\n",
    "    global driver\n",
    "\n",
    "    chrome_options = Options() # Saving the last session\n",
    "    chrome_options.add_argument(\"user-data-dir=selenium\") \n",
    "    driver = webdriver.Chrome(chromeDriverPath, chrome_options=chrome_options)\n",
    "    driver.get('https://web.whatsapp.com/')\n",
    "\n",
    "    while True:\n",
    "        time.sleep(1)\n",
    "        try:\n",
    "            appLoad = driver.find_element_by_class_name(\"m6ZEb\") # The class only exists after the QR login page\n",
    "            if appLoad:\n",
    "                return # The login was successful\n",
    "        except NoSuchElementException:\n",
    "            pass"
   ]
  },
  {
   "cell_type": "code",
   "execution_count": 77,
   "metadata": {},
   "outputs": [],
   "source": [
    "class ANTON:\n",
    "    def __init__(self, phone_number, receiver):\n",
    "        self.phone_number = phone_number\n",
    "        self.receiver = receiver\n",
    "            \n",
    "    def getLastMessage(self,targetName):\n",
    "        lastMessage=\"\"\n",
    "        global driver\n",
    "        target = driver.find_element_by_xpath('//span[@title= \"{}\"]'.format(targetName))\n",
    "        target.click()\n",
    "\n",
    "        messages = None\n",
    "\n",
    "        while(1):\n",
    "            try:\n",
    "                messages = driver.find_elements_by_class_name(\"_3zb-j\")\n",
    "                newMessage = messages[-1].text\n",
    "                if(newMessage != lastMessage):\n",
    "                    lastMessage=newMessage\n",
    "                    return newMessage\n",
    "                else:\n",
    "                    return -1\n",
    "\n",
    "            except (NoSuchElementException, StaleElementReferenceException) as e:\n",
    "                pass\n",
    "            \n",
    "    def sendMessage(self,targetName, msg):\n",
    "        global driver\n",
    "        target = driver.find_element_by_xpath('//span[@title= \"{}\"]'.format(targetName))\n",
    "        target.click()\n",
    "\n",
    "        msg_box = driver.find_element_by_xpath('//*[@id=\"main\"]/footer/div[1]/div[2]/div/div[2]')\n",
    "        msg_box.send_keys(msg)\n",
    "        button = driver.find_element_by_class_name('_35EW6').click()\n",
    "            \n",
    "    def main(self):\n",
    "        self.modify_text()\n",
    "        msg=self.getLastMessage(self.receiver)\n",
    "        print(msg)\n",
    "        response = chatbot.get_response(msg)\n",
    "        print(response)\n",
    "        response = str(response)\n",
    "        self.sendMessage(self.receiver, response)"
   ]
  },
  {
   "cell_type": "code",
   "execution_count": 108,
   "metadata": {},
   "outputs": [],
   "source": [
    "if __name__ == '__main__':\n",
    "    phoneNumber = \"\" #Provide the receiver's phone number\n",
    "    Receiver = \"\"    #Provide the receiver's name"
   ]
  },
  {
   "cell_type": "code",
   "execution_count": 109,
   "metadata": {},
   "outputs": [
    {
     "name": "stderr",
     "output_type": "stream",
     "text": [
      "C:\\ProgramData\\Anaconda\\lib\\site-packages\\ipykernel_launcher.py:6: DeprecationWarning: use options instead of chrome_options\n",
      "  \n"
     ]
    }
   ],
   "source": [
    "whatsappWebConnection('') # Path of your chrome driver"
   ]
  },
  {
   "cell_type": "code",
   "execution_count": 110,
   "metadata": {},
   "outputs": [
    {
     "name": "stdout",
     "output_type": "stream",
     "text": [
      "What the hell\n",
      "A man in a mask.\n"
     ]
    }
   ],
   "source": [
    "def startAnton():\n",
    "    ANTON(phone_number=phoneNumber, receiver=Receiver).main()"
   ]
  },
  {
   "cell_type": "code",
   "execution_count": null,
   "metadata": {},
   "outputs": [],
   "source": []
  }
 ],
 "metadata": {
  "kernelspec": {
   "display_name": "Python 3",
   "language": "python",
   "name": "python3"
  },
  "language_info": {
   "codemirror_mode": {
    "name": "ipython",
    "version": 3
   },
   "file_extension": ".py",
   "mimetype": "text/x-python",
   "name": "python",
   "nbconvert_exporter": "python",
   "pygments_lexer": "ipython3",
   "version": "3.7.0"
  }
 },
 "nbformat": 4,
 "nbformat_minor": 2
}
